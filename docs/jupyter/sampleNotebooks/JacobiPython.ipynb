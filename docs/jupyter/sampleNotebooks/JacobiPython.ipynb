{
 "cells": [
  {
   "cell_type": "markdown",
   "metadata": {},
   "source": [
    "# Solve Ax = b using Jacobi Algorithm"
   ]
  },
  {
   "cell_type": "markdown",
   "metadata": {},
   "source": [
    "Algorithm.\n",
    "\n",
    "* Find D, the Diagonal of of A : _diag(A)_\n",
    "* Find R, the Remainder of A - D : _A - diagflat(A)_\n",
    "\n",
    "* Choose your initial guess, x[0]\n",
    "    * Start iterating, k=0\n",
    "        * While not converged do\n",
    "           * Start your i-loop (for i = 1 to n)\n",
    "               * sigma = 0\n",
    "                * Start your j-loop (for j = 1 to n)\n",
    "                   * If j not equal to i\n",
    "                       * sigma = sigma + a[i][j] * x[j]k\n",
    "                 * End j-loop\n",
    "               * x[i]k = (b[i] – sigma)/a[i][i] : _x = (b - dot(R,x)) / D_\n",
    "           * End i-loop\n",
    "        * Check for convergence\n",
    "    * Iterate k, ie. k = k+1\n"
   ]
  },
  {
   "cell_type": "code",
   "execution_count": 1,
   "metadata": {},
   "outputs": [],
   "source": [
    "from pprint import pprint\n",
    "from numpy import array, zeros, diag, diagflat, dot\n",
    "\n",
    "def jacobi(A,b,N=25,x=None):\n",
    "    \"\"\"Solves the equation Ax=b via the Jacobi iterative method.\"\"\"\n",
    "    # Create an initial guess if needed                                                                                                                                                            \n",
    "    if x is None:\n",
    "        x = zeros(len(A[0]))\n",
    "\n",
    "    # Create a vector of the diagonal elements of A                                                                                                                                                \n",
    "    # and subtract them from A                                                                                                                                                                     \n",
    "    D = diag(A)\n",
    "    R = A - diagflat(D)\n",
    "\n",
    "    # Iterate for N times                                                                                                                                                                          \n",
    "    for i in range(N):\n",
    "        x = (b - dot(R,x)) / D\n",
    "        print \"x[\", i,\"]\"\n",
    "        pprint(x)\n",
    "    return x"
   ]
  },
  {
   "cell_type": "code",
   "execution_count": 2,
   "metadata": {},
   "outputs": [
    {
     "name": "stdout",
     "output_type": "stream",
     "text": [
      "x[ 0 ]\n",
      "array([5.        , 1.14285714])\n",
      "x[ 1 ]\n",
      "array([ 4.92857143, -1.71428571])\n",
      "x[ 2 ]\n",
      "array([ 6.35714286, -1.66326531])\n",
      "x[ 3 ]\n",
      "array([ 6.33163265, -2.68367347])\n",
      "x[ 4 ]\n",
      "array([ 6.84183673, -2.6654519 ])\n",
      "x[ 5 ]\n",
      "array([ 6.83272595, -3.02988338])\n",
      "x[ 6 ]\n",
      "array([ 7.01494169, -3.02337568])\n",
      "x[ 7 ]\n",
      "array([ 7.01168784, -3.15352978])\n",
      "x[ 8 ]\n",
      "array([ 7.07676489, -3.1512056 ])\n",
      "x[ 9 ]\n",
      "array([ 7.0756028 , -3.19768921])\n",
      "x[ 10 ]\n",
      "array([ 7.0988446 , -3.19685914])\n",
      "x[ 11 ]\n",
      "array([ 7.09842957, -3.21346043])\n",
      "x[ 12 ]\n",
      "array([ 7.10673022, -3.21316398])\n",
      "x[ 13 ]\n",
      "array([ 7.10658199, -3.21909301])\n",
      "x[ 14 ]\n",
      "array([ 7.10954651, -3.21898714])\n",
      "x[ 15 ]\n",
      "array([ 7.10949357, -3.22110465])\n",
      "x[ 16 ]\n",
      "array([ 7.11055232, -3.22106683])\n",
      "x[ 17 ]\n",
      "array([ 7.11053342, -3.22182309])\n",
      "x[ 18 ]\n",
      "array([ 7.11091154, -3.22180958])\n",
      "x[ 19 ]\n",
      "array([ 7.11090479, -3.22207967])\n",
      "x[ 20 ]\n",
      "array([ 7.11103984, -3.22207485])\n",
      "x[ 21 ]\n",
      "array([ 7.11103743, -3.22217131])\n",
      "x[ 22 ]\n",
      "array([ 7.11108566, -3.22216959])\n",
      "x[ 23 ]\n",
      "array([ 7.11108479, -3.22220404])\n",
      "x[ 24 ]\n",
      "array([ 7.11110202, -3.22220342])\n",
      "A:\n",
      "array([[2., 1.],\n",
      "       [5., 7.]])\n",
      "b:\n",
      "array([11., 13.])\n",
      "x:\n",
      "array([ 7.11110202, -3.22220342])\n"
     ]
    }
   ],
   "source": [
    "A = array([[2.0,1.0],[5.0,7.0]])\n",
    "b = array([11.0,13.0])\n",
    "guess = array([1.0,1.0])\n",
    "\n",
    "sol = jacobi(A,b,N=25,x=guess)\n",
    "\n",
    "print \"A:\"\n",
    "pprint(A)\n",
    "\n",
    "print \"b:\"\n",
    "pprint(b)\n",
    "\n",
    "print \"x:\"\n",
    "pprint(sol)"
   ]
  },
  {
   "cell_type": "code",
   "execution_count": 3,
   "metadata": {},
   "outputs": [
    {
     "data": {
      "text/plain": [
       "(2,)"
      ]
     },
     "execution_count": 3,
     "metadata": {},
     "output_type": "execute_result"
    }
   ],
   "source": [
    "sol.shape"
   ]
  },
  {
   "cell_type": "code",
   "execution_count": null,
   "metadata": {},
   "outputs": [],
   "source": []
  }
 ],
 "metadata": {
  "kernelspec": {
   "display_name": "Python 2",
   "language": "python",
   "name": "python2"
  },
  "language_info": {
   "codemirror_mode": {
    "name": "ipython",
    "version": 2
   },
   "file_extension": ".py",
   "mimetype": "text/x-python",
   "name": "python",
   "nbconvert_exporter": "python",
   "pygments_lexer": "ipython2",
   "version": "2.7.15"
  }
 },
 "nbformat": 4,
 "nbformat_minor": 1
}
